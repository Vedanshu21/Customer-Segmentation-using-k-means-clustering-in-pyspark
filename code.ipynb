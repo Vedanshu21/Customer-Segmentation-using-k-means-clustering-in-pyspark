{
 "cells": [
  {
   "cell_type": "code",
   "execution_count": 2,
   "metadata": {},
   "outputs": [],
   "source": [
    "import findspark\n",
    "findspark.init()\n",
    "\n",
    "import pyspark\n",
    "\n",
    "from pyspark.sql import SparkSession\n",
    "from pyspark.sql.functions import *\n",
    "from pyspark.sql.types import *"
   ]
  },
  {
   "cell_type": "code",
   "execution_count": 3,
   "metadata": {},
   "outputs": [],
   "source": [
    " \n",
    "spark = SparkSession.builder.appName(\"RFM_Analysis_with_PySpark\").getOrCreate()"
   ]
  },
  {
   "cell_type": "code",
   "execution_count": 7,
   "metadata": {},
   "outputs": [],
   "source": [
    "# data = spark.read.format(\"csv\").option(\"header\", \"true\").load(\"data.csv\")\n",
    "df = spark.read.format(\"csv\").option(\"header\", \"true\").load(\"V:\\data_Science\\CustomerSegmentation\\data.csv\\data.csv\")\n"
   ]
  },
  {
   "cell_type": "code",
   "execution_count": 10,
   "metadata": {},
   "outputs": [
    {
     "name": "stdout",
     "output_type": "stream",
     "text": [
      "+---------+---------+--------------------+--------+---------+----------+--------------+----------+\n",
      "|InvoiceNo|StockCode|         Description|Quantity|UnitPrice|CustomerID|       Country|      Date|\n",
      "+---------+---------+--------------------+--------+---------+----------+--------------+----------+\n",
      "|   536365|   85123A|WHITE HANGING HEA...|       6|     2.55|     17850|United Kingdom|2010-12-01|\n",
      "|   536365|    71053| WHITE METAL LANTERN|       6|     3.39|     17850|United Kingdom|2010-12-01|\n",
      "|   536365|   84406B|CREAM CUPID HEART...|       8|     2.75|     17850|United Kingdom|2010-12-01|\n",
      "|   536365|   84029G|KNITTED UNION FLA...|       6|     3.39|     17850|United Kingdom|2010-12-01|\n",
      "|   536365|   84029E|RED WOOLLY HOTTIE...|       6|     3.39|     17850|United Kingdom|2010-12-01|\n",
      "|   536365|    22752|SET 7 BABUSHKA NE...|       2|     7.65|     17850|United Kingdom|2010-12-01|\n",
      "|   536365|    21730|GLASS STAR FROSTE...|       6|     4.25|     17850|United Kingdom|2010-12-01|\n",
      "|   536366|    22633|HAND WARMER UNION...|       6|     1.85|     17850|United Kingdom|2010-12-01|\n",
      "|   536366|    22632|HAND WARMER RED P...|       6|     1.85|     17850|United Kingdom|2010-12-01|\n",
      "|   536367|    84879|ASSORTED COLOUR B...|      32|     1.69|     13047|United Kingdom|2010-12-01|\n",
      "|   536367|    22745|POPPY'S PLAYHOUSE...|       6|      2.1|     13047|United Kingdom|2010-12-01|\n",
      "|   536367|    22748|POPPY'S PLAYHOUSE...|       6|      2.1|     13047|United Kingdom|2010-12-01|\n",
      "|   536367|    22749|FELTCRAFT PRINCES...|       8|     3.75|     13047|United Kingdom|2010-12-01|\n",
      "|   536367|    22310|IVORY KNITTED MUG...|       6|     1.65|     13047|United Kingdom|2010-12-01|\n",
      "|   536367|    84969|BOX OF 6 ASSORTED...|       6|     4.25|     13047|United Kingdom|2010-12-01|\n",
      "|   536367|    22623|BOX OF VINTAGE JI...|       3|     4.95|     13047|United Kingdom|2010-12-01|\n",
      "|   536367|    22622|BOX OF VINTAGE AL...|       2|     9.95|     13047|United Kingdom|2010-12-01|\n",
      "|   536367|    21754|HOME BUILDING BLO...|       3|     5.95|     13047|United Kingdom|2010-12-01|\n",
      "|   536367|    21755|LOVE BUILDING BLO...|       3|     5.95|     13047|United Kingdom|2010-12-01|\n",
      "|   536367|    21777|RECIPE BOX WITH M...|       4|     7.95|     13047|United Kingdom|2010-12-01|\n",
      "+---------+---------+--------------------+--------+---------+----------+--------------+----------+\n",
      "only showing top 20 rows\n",
      "\n"
     ]
    }
   ],
   "source": [
    "df = df.withColumn(\"tmp\",split(col(\"InvoiceDate\"),\"\\s+\")).withColumn(\"date_new\",col(\"tmp\").getItem(0))    \n",
    "df = df.withColumn(\"DateInvoice\", regexp_replace(col(\"date_new\"), \"/\", \"-\"))                                 \n",
    "df = df.withColumn(\"Date\", to_date(col(\"DateInvoice\"),\"M-d-yyyy\"))                                         \n",
    "df = df.withColumn(\"Quantity\", df[\"Quantity\"].cast(IntegerType()))                                        \n",
    "df = df.withColumn(\"UnitPrice\", df[\"UnitPrice\"].cast(DoubleType()))                                          \n",
    "df = df.select('InvoiceNo','StockCode','Description','Quantity','UnitPrice','CustomerID','Country','Date')  \n",
    "df.show()"
   ]
  },
  {
   "cell_type": "code",
   "execution_count": 11,
   "metadata": {},
   "outputs": [
    {
     "name": "stdout",
     "output_type": "stream",
     "text": [
      "+---------+---------+--------------------+--------+---------+----------+--------------+----------+----------+-----------+\n",
      "|InvoiceNo|StockCode|         Description|Quantity|UnitPrice|CustomerID|       Country|      Date|TotalPrice|RecencyDays|\n",
      "+---------+---------+--------------------+--------+---------+----------+--------------+----------+----------+-----------+\n",
      "|   536365|   85123A|WHITE HANGING HEA...|       6|     2.55|     17850|United Kingdom|2010-12-01|      15.3|        395|\n",
      "|   536365|    71053| WHITE METAL LANTERN|       6|     3.39|     17850|United Kingdom|2010-12-01|     20.34|        395|\n",
      "|   536365|   84406B|CREAM CUPID HEART...|       8|     2.75|     17850|United Kingdom|2010-12-01|      22.0|        395|\n",
      "|   536365|   84029G|KNITTED UNION FLA...|       6|     3.39|     17850|United Kingdom|2010-12-01|     20.34|        395|\n",
      "|   536365|   84029E|RED WOOLLY HOTTIE...|       6|     3.39|     17850|United Kingdom|2010-12-01|     20.34|        395|\n",
      "|   536365|    22752|SET 7 BABUSHKA NE...|       2|     7.65|     17850|United Kingdom|2010-12-01|      15.3|        395|\n",
      "|   536365|    21730|GLASS STAR FROSTE...|       6|     4.25|     17850|United Kingdom|2010-12-01|      25.5|        395|\n",
      "|   536366|    22633|HAND WARMER UNION...|       6|     1.85|     17850|United Kingdom|2010-12-01|      11.1|        395|\n",
      "|   536366|    22632|HAND WARMER RED P...|       6|     1.85|     17850|United Kingdom|2010-12-01|      11.1|        395|\n",
      "|   536367|    84879|ASSORTED COLOUR B...|      32|     1.69|     13047|United Kingdom|2010-12-01|     54.08|        395|\n",
      "|   536367|    22745|POPPY'S PLAYHOUSE...|       6|      2.1|     13047|United Kingdom|2010-12-01|      12.6|        395|\n",
      "|   536367|    22748|POPPY'S PLAYHOUSE...|       6|      2.1|     13047|United Kingdom|2010-12-01|      12.6|        395|\n",
      "|   536367|    22749|FELTCRAFT PRINCES...|       8|     3.75|     13047|United Kingdom|2010-12-01|      30.0|        395|\n",
      "|   536367|    22310|IVORY KNITTED MUG...|       6|     1.65|     13047|United Kingdom|2010-12-01|       9.9|        395|\n",
      "|   536367|    84969|BOX OF 6 ASSORTED...|       6|     4.25|     13047|United Kingdom|2010-12-01|      25.5|        395|\n",
      "|   536367|    22623|BOX OF VINTAGE JI...|       3|     4.95|     13047|United Kingdom|2010-12-01|     14.85|        395|\n",
      "|   536367|    22622|BOX OF VINTAGE AL...|       2|     9.95|     13047|United Kingdom|2010-12-01|      19.9|        395|\n",
      "|   536367|    21754|HOME BUILDING BLO...|       3|     5.95|     13047|United Kingdom|2010-12-01|     17.85|        395|\n",
      "|   536367|    21755|LOVE BUILDING BLO...|       3|     5.95|     13047|United Kingdom|2010-12-01|     17.85|        395|\n",
      "|   536367|    21777|RECIPE BOX WITH M...|       4|     7.95|     13047|United Kingdom|2010-12-01|      31.8|        395|\n",
      "+---------+---------+--------------------+--------+---------+----------+--------------+----------+----------+-----------+\n",
      "only showing top 20 rows\n",
      "\n"
     ]
    }
   ],
   "source": [
    "df = df.withColumn(\"TotalPrice\", round(df[\"UnitPrice\"] * df[\"Quantity\"], 2))\n",
    "df = df.withColumn(\"RecencyDays\", expr(\"datediff('2011-12-31', Date)\"))\n",
    "df.show()"
   ]
  },
  {
   "cell_type": "code",
   "execution_count": 12,
   "metadata": {},
   "outputs": [
    {
     "name": "stdout",
     "output_type": "stream",
     "text": [
      "+----------+-------+---------+------------------+\n",
      "|CustomerId|Recency|Frequency|          Monetary|\n",
      "+----------+-------+---------+------------------+\n",
      "|     16250|    283|       24|            389.44|\n",
      "|     15574|    199|      168| 702.2500000000002|\n",
      "|     15555|     34|      925| 4758.200000000001|\n",
      "|     15271|     29|      275|2485.8199999999997|\n",
      "|     17714|    342|       10|             153.0|\n",
      "+----------+-------+---------+------------------+\n",
      "only showing top 5 rows\n",
      "\n"
     ]
    }
   ],
   "source": [
    "rfm_table = df.groupBy('CustomerId')\\\n",
    "              .agg(min('RecencyDays').alias('Recency'), \\\n",
    "                   count('InvoiceNo').alias('Frequency'), \\\n",
    "                 sum('TotalPrice').alias('Monetary'))\n",
    "rfm_table.show(5)"
   ]
  },
  {
   "cell_type": "code",
   "execution_count": 15,
   "metadata": {},
   "outputs": [],
   "source": [
    "import pandas as pd"
   ]
  },
  {
   "cell_type": "code",
   "execution_count": 16,
   "metadata": {},
   "outputs": [],
   "source": [
    "# rfm_table.show(5)\n",
    "rfm_table.toPandas().to_csv('improved_data.csv')"
   ]
  }
 ],
 "metadata": {
  "kernelspec": {
   "display_name": "Python 3",
   "language": "python",
   "name": "python3"
  },
  "language_info": {
   "codemirror_mode": {
    "name": "ipython",
    "version": 3
   },
   "file_extension": ".py",
   "mimetype": "text/x-python",
   "name": "python",
   "nbconvert_exporter": "python",
   "pygments_lexer": "ipython3",
   "version": "3.11.4"
  },
  "orig_nbformat": 4
 },
 "nbformat": 4,
 "nbformat_minor": 2
}
